{
 "cells": [
  {
   "cell_type": "markdown",
   "metadata": {},
   "source": [
    "<h1 style=\"color:blue\">Project-2 - Par Inc. Golf Data Analysis</h1>"
   ]
  },
  {
   "cell_type": "code",
   "execution_count": 2,
   "metadata": {},
   "outputs": [],
   "source": [
    "import numpy as np\n",
    "import pandas as pd\n",
    "import matplotlib.pyplot as plt\n",
    "import seaborn as sb\n",
    "from scipy import stats"
   ]
  },
  {
   "cell_type": "code",
   "execution_count": 3,
   "metadata": {},
   "outputs": [],
   "source": [
    "%matplotlib inline"
   ]
  },
  {
   "cell_type": "code",
   "execution_count": 4,
   "metadata": {},
   "outputs": [],
   "source": [
    "sample_data = pd.read_excel(\"golf-data.xls\")"
   ]
  },
  {
   "cell_type": "code",
   "execution_count": 5,
   "metadata": {},
   "outputs": [
    {
     "data": {
      "text/html": [
       "<div>\n",
       "<style scoped>\n",
       "    .dataframe tbody tr th:only-of-type {\n",
       "        vertical-align: middle;\n",
       "    }\n",
       "\n",
       "    .dataframe tbody tr th {\n",
       "        vertical-align: top;\n",
       "    }\n",
       "\n",
       "    .dataframe thead th {\n",
       "        text-align: right;\n",
       "    }\n",
       "</style>\n",
       "<table border=\"1\" class=\"dataframe\">\n",
       "  <thead>\n",
       "    <tr style=\"text-align: right;\">\n",
       "      <th></th>\n",
       "      <th>Current</th>\n",
       "      <th>New</th>\n",
       "    </tr>\n",
       "  </thead>\n",
       "  <tbody>\n",
       "    <tr>\n",
       "      <th>0</th>\n",
       "      <td>264</td>\n",
       "      <td>277</td>\n",
       "    </tr>\n",
       "    <tr>\n",
       "      <th>1</th>\n",
       "      <td>261</td>\n",
       "      <td>269</td>\n",
       "    </tr>\n",
       "    <tr>\n",
       "      <th>2</th>\n",
       "      <td>267</td>\n",
       "      <td>263</td>\n",
       "    </tr>\n",
       "    <tr>\n",
       "      <th>3</th>\n",
       "      <td>272</td>\n",
       "      <td>266</td>\n",
       "    </tr>\n",
       "    <tr>\n",
       "      <th>4</th>\n",
       "      <td>258</td>\n",
       "      <td>262</td>\n",
       "    </tr>\n",
       "  </tbody>\n",
       "</table>\n",
       "</div>"
      ],
      "text/plain": [
       "   Current  New\n",
       "0      264  277\n",
       "1      261  269\n",
       "2      267  263\n",
       "3      272  266\n",
       "4      258  262"
      ]
     },
     "execution_count": 5,
     "metadata": {},
     "output_type": "execute_result"
    }
   ],
   "source": [
    "sample_data.head()"
   ]
  },
  {
   "cell_type": "code",
   "execution_count": 6,
   "metadata": {},
   "outputs": [
    {
     "data": {
      "text/html": [
       "<div>\n",
       "<style scoped>\n",
       "    .dataframe tbody tr th:only-of-type {\n",
       "        vertical-align: middle;\n",
       "    }\n",
       "\n",
       "    .dataframe tbody tr th {\n",
       "        vertical-align: top;\n",
       "    }\n",
       "\n",
       "    .dataframe thead th {\n",
       "        text-align: right;\n",
       "    }\n",
       "</style>\n",
       "<table border=\"1\" class=\"dataframe\">\n",
       "  <thead>\n",
       "    <tr style=\"text-align: right;\">\n",
       "      <th></th>\n",
       "      <th>Current</th>\n",
       "      <th>New</th>\n",
       "    </tr>\n",
       "  </thead>\n",
       "  <tbody>\n",
       "    <tr>\n",
       "      <th>35</th>\n",
       "      <td>267</td>\n",
       "      <td>263</td>\n",
       "    </tr>\n",
       "    <tr>\n",
       "      <th>36</th>\n",
       "      <td>279</td>\n",
       "      <td>261</td>\n",
       "    </tr>\n",
       "    <tr>\n",
       "      <th>37</th>\n",
       "      <td>274</td>\n",
       "      <td>255</td>\n",
       "    </tr>\n",
       "    <tr>\n",
       "      <th>38</th>\n",
       "      <td>276</td>\n",
       "      <td>263</td>\n",
       "    </tr>\n",
       "    <tr>\n",
       "      <th>39</th>\n",
       "      <td>262</td>\n",
       "      <td>279</td>\n",
       "    </tr>\n",
       "  </tbody>\n",
       "</table>\n",
       "</div>"
      ],
      "text/plain": [
       "    Current  New\n",
       "35      267  263\n",
       "36      279  261\n",
       "37      274  255\n",
       "38      276  263\n",
       "39      262  279"
      ]
     },
     "execution_count": 6,
     "metadata": {},
     "output_type": "execute_result"
    }
   ],
   "source": [
    "sample_data.tail()"
   ]
  },
  {
   "cell_type": "code",
   "execution_count": 7,
   "metadata": {},
   "outputs": [
    {
     "data": {
      "text/html": [
       "<div>\n",
       "<style scoped>\n",
       "    .dataframe tbody tr th:only-of-type {\n",
       "        vertical-align: middle;\n",
       "    }\n",
       "\n",
       "    .dataframe tbody tr th {\n",
       "        vertical-align: top;\n",
       "    }\n",
       "\n",
       "    .dataframe thead th {\n",
       "        text-align: right;\n",
       "    }\n",
       "</style>\n",
       "<table border=\"1\" class=\"dataframe\">\n",
       "  <thead>\n",
       "    <tr style=\"text-align: right;\">\n",
       "      <th></th>\n",
       "      <th>Current</th>\n",
       "      <th>New</th>\n",
       "    </tr>\n",
       "  </thead>\n",
       "  <tbody>\n",
       "    <tr>\n",
       "      <th>count</th>\n",
       "      <td>40.000000</td>\n",
       "      <td>40.000000</td>\n",
       "    </tr>\n",
       "    <tr>\n",
       "      <th>mean</th>\n",
       "      <td>270.275000</td>\n",
       "      <td>267.500000</td>\n",
       "    </tr>\n",
       "    <tr>\n",
       "      <th>std</th>\n",
       "      <td>8.752985</td>\n",
       "      <td>9.896904</td>\n",
       "    </tr>\n",
       "    <tr>\n",
       "      <th>min</th>\n",
       "      <td>255.000000</td>\n",
       "      <td>250.000000</td>\n",
       "    </tr>\n",
       "    <tr>\n",
       "      <th>25%</th>\n",
       "      <td>263.000000</td>\n",
       "      <td>262.000000</td>\n",
       "    </tr>\n",
       "    <tr>\n",
       "      <th>50%</th>\n",
       "      <td>270.000000</td>\n",
       "      <td>265.000000</td>\n",
       "    </tr>\n",
       "    <tr>\n",
       "      <th>75%</th>\n",
       "      <td>275.250000</td>\n",
       "      <td>274.500000</td>\n",
       "    </tr>\n",
       "    <tr>\n",
       "      <th>max</th>\n",
       "      <td>289.000000</td>\n",
       "      <td>289.000000</td>\n",
       "    </tr>\n",
       "  </tbody>\n",
       "</table>\n",
       "</div>"
      ],
      "text/plain": [
       "          Current         New\n",
       "count   40.000000   40.000000\n",
       "mean   270.275000  267.500000\n",
       "std      8.752985    9.896904\n",
       "min    255.000000  250.000000\n",
       "25%    263.000000  262.000000\n",
       "50%    270.000000  265.000000\n",
       "75%    275.250000  274.500000\n",
       "max    289.000000  289.000000"
      ]
     },
     "execution_count": 7,
     "metadata": {},
     "output_type": "execute_result"
    }
   ],
   "source": [
    "sample_data.describe()"
   ]
  },
  {
   "cell_type": "code",
   "execution_count": 9,
   "metadata": {},
   "outputs": [
    {
     "name": "stdout",
     "output_type": "stream",
     "text": [
      "<class 'pandas.core.frame.DataFrame'>\n",
      "RangeIndex: 40 entries, 0 to 39\n",
      "Data columns (total 2 columns):\n",
      "Current    40 non-null int64\n",
      "New        40 non-null int64\n",
      "dtypes: int64(2)\n",
      "memory usage: 720.0 bytes\n"
     ]
    }
   ],
   "source": [
    "sample_data.info()"
   ]
  },
  {
   "cell_type": "markdown",
   "metadata": {},
   "source": [
    "<h2 style=\"color:brown\"> There are no null values in the samlple.</h2>"
   ]
  },
  {
   "cell_type": "code",
   "execution_count": 10,
   "metadata": {},
   "outputs": [],
   "source": [
    "current_data = sample_data[\"Current\"]\n",
    "new_data = sample_data[\"New\"]"
   ]
  },
  {
   "cell_type": "code",
   "execution_count": 12,
   "metadata": {},
   "outputs": [
    {
     "data": {
      "text/plain": [
       "<matplotlib.axes._subplots.AxesSubplot at 0x1cb71f4dbe0>"
      ]
     },
     "execution_count": 12,
     "metadata": {},
     "output_type": "execute_result"
    },
    {
     "data": {
      "image/png": "[encoded data removed]",
      "text/plain": [
       "<Figure size 432x288 with 1 Axes>"
      ]
     },
     "metadata": {
      "needs_background": "light"
     },
     "output_type": "display_data"
    }
   ],
   "source": [
    "sb.distplot(current_data)"
   ]
  },
  {
   "cell_type": "code",
   "execution_count": 13,
   "metadata": {},
   "outputs": [
    {
     "data": {
      "text/plain": [
       "<matplotlib.axes._subplots.AxesSubplot at 0x1cb721f3a90>"
      ]
     },
     "execution_count": 13,
     "metadata": {},
     "output_type": "execute_result"
    },
    {
     "data": {
      "image/png": "[encoded data removed]",
      "text/plain": [
       "<Figure size 432x288 with 1 Axes>"
      ]
     },
     "metadata": {
      "needs_background": "light"
     },
     "output_type": "display_data"
    }
   ],
   "source": [
    "sb.distplot(new_data)"
   ]
  },
  {
   "cell_type": "markdown",
   "metadata": {},
   "source": [
    "<h2 style=\"color:brown\"> From the distribution plot above, it is visible that both the samples are more or less normally distributed. We will cross validate the same with Shapiro-Wilk Test.</h2>"
   ]
  },
  {
   "cell_type": "code",
   "execution_count": 14,
   "metadata": {},
   "outputs": [
    {
     "data": {
      "text/plain": [
       "<matplotlib.axes._subplots.AxesSubplot at 0x1cb73235f28>"
      ]
     },
     "execution_count": 14,
     "metadata": {},
     "output_type": "execute_result"
    },
    {
     "data": {
      "image/png": "[encoded data removed]",
      "text/plain": [
       "<Figure size 432x288 with 1 Axes>"
      ]
     },
     "metadata": {
      "needs_background": "light"
     },
     "output_type": "display_data"
    }
   ],
   "source": [
    "sb.boxplot(x=current_data)"
   ]
  },
  {
   "cell_type": "code",
   "execution_count": 15,
   "metadata": {},
   "outputs": [
    {
     "data": {
      "text/plain": [
       "<matplotlib.axes._subplots.AxesSubplot at 0x1cb732b8080>"
      ]
     },
     "execution_count": 15,
     "metadata": {},
     "output_type": "execute_result"
    },
    {
     "data": {
      "image/png": "[encoded data removed]",
      "text/plain": [
       "<Figure size 432x288 with 1 Axes>"
      ]
     },
     "metadata": {
      "needs_background": "light"
     },
     "output_type": "display_data"
    }
   ],
   "source": [
    "sb.boxplot(x=new_data)"
   ]
  },
  {
   "cell_type": "markdown",
   "metadata": {},
   "source": [
    "<h2 style=\"color:brown\"> From the box plot above, it is clearly visible that both the samples don't have outliers.</h2>\n"
   ]
  },
  {
   "cell_type": "code",
   "execution_count": 16,
   "metadata": {},
   "outputs": [
    {
     "name": "stdout",
     "output_type": "stream",
     "text": [
      "Current Data Mean is - 270.275\n",
      "Current Data Std. Deviation is -  8.642880017679293\n",
      "New Data Mean is - 267.5\n",
      "New Data Std. Deviation is -  9.772410142846033\n"
     ]
    }
   ],
   "source": [
    "current_data_mean = np.mean(current_data)\n",
    "new_data_mean = np.mean(new_data)\n",
    "current_data_sd =np.std(current_data)\n",
    "new_data_sd = np.std(new_data)\n",
    "print(\"Current Data Mean is -\" , current_data_mean)\n",
    "print(\"Current Data Std. Deviation is - \",current_data_sd)\n",
    "print(\"New Data Mean is -\", new_data_mean)\n",
    "print(\"New Data Std. Deviation is - \",new_data_sd)"
   ]
  },
  {
   "cell_type": "markdown",
   "metadata": {},
   "source": [
    "<h2 style=\"color:brown\">Here, as Population standard deviation can not be made available due to large population, <br/>\n",
    "using Point Estimate, we can consider sample standard deviation as population standard deviation.<br/>\n",
    "And using sample size value 40, we can derive standard error of mean (sem) using available sample.</h2>\n",
    "<h2 style=\"color:brown\">Formula : sigma(xbar) = sigma(sample)/sqrt(sample size)</h2>\n"
   ]
  },
  {
   "cell_type": "code",
   "execution_count": 17,
   "metadata": {},
   "outputs": [
    {
     "name": "stdout",
     "output_type": "stream",
     "text": [
      "Standard error of mean for Current Data is =  1.3839684207898637\n",
      "Standard error of mean for New Data is =  1.5648379944000428\n"
     ]
    }
   ],
   "source": [
    "print(\"Standard error of mean for Current Data is = \",stats.sem(current_data))\n",
    "print(\"Standard error of mean for New Data is = \",stats.sem(new_data))"
   ]
  },
  {
   "cell_type": "markdown",
   "metadata": {},
   "source": [
    "<h1 style=\"color:brown\"><u>Shapiro-Wilk Test</u></h1>\n",
    "<h2 style=\"color:brown\">Let us now do a hypothesis test to check the data normality, i.e. whethere the given sample data is Normally Distributed or not.</h2>\n",
    "<h2 style=\"color:brown\">Null Hypothesis: H<sub>0</sub> = Sample data is drawn from Normal Distribution.</h2>\n",
    "<h2 style=\"color:brown\">Alternative Hypothesis: H<sub>1</sub> = Sample data is <b>NOT</b> drawn from Normal Distribution.</h2>"
   ]
  },
  {
   "cell_type": "code",
   "execution_count": 28,
   "metadata": {},
   "outputs": [
    {
     "name": "stdout",
     "output_type": "stream",
     "text": [
      "Shapiro Test - Test Statistics:  0.9707046747207642\n",
      "Shapiro Test - p-value:  0.378787100315094\n",
      "Shapiro Test for Current Sample\n",
      "p > alpha , no statistical evidence to reject Null Hypothesis. Sample Data can be assumed to be drawn from Normal Distribution\n"
     ]
    }
   ],
   "source": [
    "#Test on Old Balls Data\n",
    "w,p = stats.shapiro(current_data)\n",
    "print(\"Shapiro Test - Test Statistics: \",w)\n",
    "print(\"Shapiro Test - p-value: \",p)\n",
    "\n",
    "#Setting 95% confidence level\n",
    "alpha = 0.05\n",
    "\n",
    "print(\"Shapiro Test for Current Sample\")\n",
    "if p > alpha:\n",
    "    print(\"p > alpha , no statistical evidence to reject Null Hypothesis. Sample Data can be assumed to be drawn from Normal Distribution\")\n",
    "else:\n",
    "    print(\"p < alpha, reject Null Hypothesis. Sample Data can not be assumed to be drawn from Normal Distribution\")\n"
   ]
  },
  {
   "cell_type": "code",
   "execution_count": 29,
   "metadata": {},
   "outputs": [
    {
     "name": "stdout",
     "output_type": "stream",
     "text": [
      "Shapiro Test - Test Statistics:  0.9678263664245605\n",
      "Shapiro Test - p-value:  0.3064655363559723\n",
      "Shapiro Test for New Sample\n",
      "p > alpha , no statistical evidence to reject Null Hypothesis. Sample Data can be assumed to be drawn from Normal Distribution\n"
     ]
    }
   ],
   "source": [
    "#Test on New Balls Data\n",
    "w,p = stats.shapiro(new_data)\n",
    "print(\"Shapiro Test - Test Statistics: \",w)\n",
    "print(\"Shapiro Test - p-value: \",p)\n",
    "\n",
    "#Setting 95% confidence level\n",
    "alpha = 0.05\n",
    "\n",
    "print(\"Shapiro Test for New Sample\")\n",
    "if p > alpha:\n",
    "    print(\"p > alpha , no statistical evidence to reject Null Hypothesis. Sample Data can be assumed to be drawn from Normal Distribution\")\n",
    "else:\n",
    "    print(\"p < alpha, reject Null Hypothesis. Sample Data can not be assumed to be drawn from Normal Distribution\")\n"
   ]
  },
  {
   "cell_type": "markdown",
   "metadata": {},
   "source": [
    "<h1 style=\"color:brown\"><u>Levene Test</u></h1>\n",
    "<h2 style=\"color:brown\">Let us now do a hypothesis test to check the homegeneity of variance, i.e. whethere the given two samples are having same variance</h2>\n",
    "<h2 style=\"color:brown\">Null Hypothesis: H<sub>0</sub> = Samples are having same variance. Sigma<sub>1</sub>=Sigma<sub>2</sub></h2>\n",
    "<h2 style=\"color:brown\">Alternative Hypothesis: H<sub>1</sub> = Samples are <b>NOT</b> having same variance. Sigma<sub>1</sub>!=Sigma<sub>2</sub></h2>"
   ]
  },
  {
   "cell_type": "code",
   "execution_count": 20,
   "metadata": {},
   "outputs": [
    {
     "name": "stdout",
     "output_type": "stream",
     "text": [
      "Levene Test - Test Statistics:  0.4454881721113651\n",
      "Levene Test - p-value:  0.5064553165908879\n",
      "p > alpha , no statistical evidence to reject Null Hypothesis. Homogeneity of Variance can be assumed.\n"
     ]
    }
   ],
   "source": [
    "#Considering center = 'mean' here as the samples can be assumed normally distributed\n",
    "w,p = stats.levene(current_data,new_data,center='mean')\n",
    "print(\"Levene Test - Test Statistics: \",w)\n",
    "print(\"Levene Test - p-value: \",p)\n",
    "\n",
    "#Setting 95% confidence level\n",
    "alpha = 0.05\n",
    "\n",
    "if p > alpha:\n",
    "    print(\"p > alpha , no statistical evidence to reject Null Hypothesis. Homogeneity of Variance can be assumed.\")\n",
    "else:\n",
    "    print(\"p < alpha, reject Null Hypothesis. Homogeneity of Variance can not be assumed.\")"
   ]
  },
  {
   "cell_type": "markdown",
   "metadata": {},
   "source": [
    "<h2 style=\"color:brown\">As we can assumed the homogenity of variance, we can now calculate Pooled Variance/Pooled Standard Deviations using formula - sqrt((SD<sub>1</sub>*SD<sub>1</sub> + SD<sub>2</sub>*SD<sub>2</sub>) / 2)</h2>"
   ]
  },
  {
   "cell_type": "code",
   "execution_count": 30,
   "metadata": {},
   "outputs": [
    {
     "name": "stdout",
     "output_type": "stream",
     "text": [
      "Pooled Standard Deviation :  9.342469200871404\n"
     ]
    }
   ],
   "source": [
    "psd = np.sqrt(((current_data.std()*current_data.std()) +(new_data.std()*new_data.std()))/2)\n",
    "print(\"Pooled Standard Deviation : \",psd)"
   ]
  },
  {
   "cell_type": "markdown",
   "metadata": {},
   "source": [
    "<h1 style=\"color:brown\"><u>T Test</u></h1>\n",
    "<h2 style=\"color:brown\">Let us now do a hypothesis test to check the mean equality, i.e. whethere the given two samples are having same mean</h2>\n",
    "<h2 style=\"color:brown\">Null Hypothesis: H<sub>0</sub> = Samples are having same mean. Mu<sub>1</sub>=Mu<sub>2</sub></h2>\n",
    "<h2 style=\"color:brown\">Alternative Hypothesis: H<sub>1</sub> = Samples are <b>NOT</b> having same variance. Mu<sub>1</sub>!=Mu<sub>2</sub></h2>"
   ]
  },
  {
   "cell_type": "code",
   "execution_count": 21,
   "metadata": {},
   "outputs": [
    {
     "name": "stdout",
     "output_type": "stream",
     "text": [
      "TTest - Test Statistics:  1.3283615935245678\n",
      "TTest - p-value:  0.18793228491854663\n",
      "p > alpha , no statistical evidence to reject Null Hypothesis. Samples can be assumed to have same mean mu1=mu2\n"
     ]
    }
   ],
   "source": [
    "t,p = stats.ttest_ind(current_data,new_data,equal_var=True)\n",
    "print(\"TTest - Test Statistics: \",t)\n",
    "#As its a two tail test, multiplying p-value by 2\n",
    "print(\"TTest - p-value: \",p)\n",
    "\n",
    "#Setting 95% confidence level\n",
    "alpha = 0.05\n",
    "\n",
    "#As its a two tail test, multiplying p-value by 2\n",
    "if p > alpha:\n",
    "    print(\"p > alpha , no statistical evidence to reject Null Hypothesis. Samples can be assumed to have same mean mu1=mu2\")\n",
    "else:\n",
    "    print(\"p < alpha, reject Null Hypothesis.Samples can be assumed to have same mean mu1=mu2.\")"
   ]
  },
  {
   "cell_type": "markdown",
   "metadata": {},
   "source": [
    "# Perform Hypothesis Testing through formula"
   ]
  },
  {
   "cell_type": "code",
   "execution_count": 22,
   "metadata": {},
   "outputs": [
    {
     "name": "stdout",
     "output_type": "stream",
     "text": [
      "Test Statistics:  1.3283615935245674\n"
     ]
    }
   ],
   "source": [
    "t = (current_data.mean() - new_data.mean())/np.sqrt(((current_data.std()*current_data.std())/40)+((new_data.std()*new_data.std())/40))\n",
    "print(\"Test Statistics: \" ,t)"
   ]
  },
  {
   "cell_type": "markdown",
   "metadata": {},
   "source": [
    "## Calculate p value"
   ]
  },
  {
   "cell_type": "code",
   "execution_count": 25,
   "metadata": {},
   "outputs": [
    {
     "name": "stdout",
     "output_type": "stream",
     "text": [
      "p-value:  0.18793228491854674\n",
      "p > alpha , no statistical evidence to reject Null Hypothesis. Samples can be assumed to have same mean mu1=mu2\n"
     ]
    }
   ],
   "source": [
    "#As Sigma is known, degree of freedom  = n1+n2-2 = 80-2 = 78\n",
    "p = 1- stats.t.cdf(t,df=78)\n",
    "#As its two tail test, multiplying p value by 2\n",
    "p = p*2\n",
    "print(\"p-value: \",p)\n",
    "if p > alpha:\n",
    "    print(\"p > alpha , no statistical evidence to reject Null Hypothesis. Samples can be assumed to have same mean mu1=mu2\")\n",
    "else:\n",
    "    print(\"p < alpha, reject Null Hypothesis.Samples can be assumed to have same mean mu1=mu2.\")"
   ]
  },
  {
   "cell_type": "markdown",
   "metadata": {},
   "source": [
    "# Calculating Probability of making Type II error as we have failed to reject hypothesis"
   ]
  },
  {
   "cell_type": "code",
   "execution_count": 26,
   "metadata": {},
   "outputs": [
    {
     "name": "stdout",
     "output_type": "stream",
     "text": [
      "Probability of making Type II error Beta is:  0.7444009570929244\n"
     ]
    }
   ],
   "source": [
    "#Critical value at 0.05 probability is 1.99 and observed value of t statistic is 1.33, Degree of Freedom=n1+n2-2 = 78\n",
    "beta = stats.t.cdf(1.99-1.33,df=78)\n",
    "print(\"Probability of making Type II error Beta is: \",beta)"
   ]
  },
  {
   "cell_type": "markdown",
   "metadata": {},
   "source": [
    "## Calculating the Power of the Test"
   ]
  },
  {
   "cell_type": "code",
   "execution_count": 27,
   "metadata": {},
   "outputs": [
    {
     "name": "stdout",
     "output_type": "stream",
     "text": [
      "Power of the Test, 0.2555990429070756\n"
     ]
    }
   ],
   "source": [
    "print(\"Power of the Test,\",1-beta)"
   ]
  },
  {
   "cell_type": "markdown",
   "metadata": {},
   "source": [
    "# CONCLUSION\n",
    "## We were unable to reject the Null Hypothesis thus TTest on provided sample suggests no difference in the mean of driving distnace of the Old and New Balls. Par Inc can manufacture the New Balls.\n",
    "## However, by calculating the probability of making Type II error, we can see that the power of the test is around 25% which is less. So to increase the power and to reduce the chances of making Type II error, this test should be performed on large data set or level of significance  apha should be increased."
   ]
  },
  {
   "cell_type": "code",
   "execution_count": null,
   "metadata": {},
   "outputs": [],
   "source": []
  }
 ],
 "metadata": {
  "kernelspec": {
   "display_name": "Python 3",
   "language": "python",
   "name": "python3"
  },
  "language_info": {
   "codemirror_mode": {
    "name": "ipython",
    "version": 3
   },
   "file_extension": ".py",
   "mimetype": "text/x-python",
   "name": "python",
   "nbconvert_exporter": "python",
   "pygments_lexer": "ipython3",
   "version": "3.7.1"
  }
 },
 "nbformat": 4,
 "nbformat_minor": 2
}
